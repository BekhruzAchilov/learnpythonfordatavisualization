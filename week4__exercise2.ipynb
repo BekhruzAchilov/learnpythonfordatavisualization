{
 "cells": [
  {
   "cell_type": "code",
   "execution_count": 2,
   "metadata": {},
   "outputs": [
    {
     "name": "stdout",
     "output_type": "stream",
     "text": [
      "Sorry BILOL, that name is taken.\n",
      "Great, Yusuf is still available.\n",
      "Great, Abdulhay is still available.\n",
      "Sorry Jalol, that name is taken.\n",
      "Great, Bahriddin is still available.\n"
     ]
    }
   ],
   "source": [
    "current_users = ['Abdulloh', 'jalol', 'Javlon', 'Feruza', 'Bilol']\n",
    "new_users = ['BILOL', 'Yusuf', 'Abdulhay', 'Jalol', 'Bahriddin']\n",
    "\n",
    "current_users_lower = [user.lower() for user in current_users]\n",
    "\n",
    "for new_user in new_users:\n",
    "    if new_user.lower() in current_users_lower:\n",
    "        print(f\"Sorry {new_user}, that name is taken.\")\n",
    "    else:\n",
    "        print(f\"Great, {new_user} is still available.\")"
   ]
  },
  {
   "cell_type": "code",
   "execution_count": null,
   "metadata": {},
   "outputs": [],
   "source": []
  },
  {
   "cell_type": "code",
   "execution_count": null,
   "metadata": {},
   "outputs": [],
   "source": []
  }
 ],
 "metadata": {
  "kernelspec": {
   "display_name": "Python 3",
   "language": "python",
   "name": "python3"
  },
  "language_info": {
   "codemirror_mode": {
    "name": "ipython",
    "version": 3
   },
   "file_extension": ".py",
   "mimetype": "text/x-python",
   "name": "python",
   "nbconvert_exporter": "python",
   "pygments_lexer": "ipython3",
   "version": "3.8.5"
  }
 },
 "nbformat": 4,
 "nbformat_minor": 4
}
