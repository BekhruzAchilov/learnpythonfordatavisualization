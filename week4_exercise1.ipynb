{
 "cells": [
  {
   "cell_type": "code",
   "execution_count": 1,
   "metadata": {},
   "outputs": [
    {
     "name": "stdout",
     "output_type": "stream",
     "text": [
      "Hello Abdulloh\n",
      "Hello Bekzod\n",
      "Hello Admin, would you like to check your page?\n",
      "Hello Ismoil\n",
      "Hello Bekhruz\n"
     ]
    }
   ],
   "source": [
    "usernames = ['Abdulloh', 'Bekzod', 'Admin', 'Ismoil', 'Bekhruz']\n",
    "for username in usernames:\n",
    "    if username == 'Admin':\n",
    "        print(\"Hello Admin, would you like to check your page?\")\n",
    "    else:\n",
    "        print(f\"Hello {username}\")"
   ]
  },
  {
   "cell_type": "code",
   "execution_count": null,
   "metadata": {},
   "outputs": [],
   "source": []
  }
 ],
 "metadata": {
  "kernelspec": {
   "display_name": "Python 3",
   "language": "python",
   "name": "python3"
  },
  "language_info": {
   "codemirror_mode": {
    "name": "ipython",
    "version": 3
   },
   "file_extension": ".py",
   "mimetype": "text/x-python",
   "name": "python",
   "nbconvert_exporter": "python",
   "pygments_lexer": "ipython3",
   "version": "3.8.5"
  }
 },
 "nbformat": 4,
 "nbformat_minor": 4
}
