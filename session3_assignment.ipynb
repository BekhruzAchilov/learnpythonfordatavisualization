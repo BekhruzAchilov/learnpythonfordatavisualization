{
 "cells": [
  {
   "cell_type": "code",
   "execution_count": 49,
   "metadata": {},
   "outputs": [
    {
     "name": "stdout",
     "output_type": "stream",
     "text": [
      "-3.888888888888889\n"
     ]
    }
   ],
   "source": [
    "def celsius(f):\n",
    "    c = (f-32)/1.8\n",
    "    print(c)\n",
    "celsius(25)"
   ]
  },
  {
   "cell_type": "code",
   "execution_count": 51,
   "metadata": {},
   "outputs": [
    {
     "name": "stdout",
     "output_type": "stream",
     "text": [
      "33.02 cm\n"
     ]
    }
   ],
   "source": [
    "def inch(cm):\n",
    "    inch = (cm) * 2.54\n",
    "    print(f\"{inch} cm\")\n",
    "inch(13)"
   ]
  },
  {
   "cell_type": "code",
   "execution_count": 41,
   "metadata": {},
   "outputs": [
    {
     "name": "stdout",
     "output_type": "stream",
     "text": [
      " If it is 2015 in georgian calendar it is 1436.0824742268042 in Islamic calendar\n"
     ]
    }
   ],
   "source": [
    "def georgian_to_islamic_calendar(georgian):\n",
    "    islamic = ((georgian) - 622) / 0.97\n",
    "    print(f\" If it is {georgian} in georgian calendar it is {islamic} in Islamic calendar\")\n",
    "georgian_to_islamic_calendar(2015)"
   ]
  },
  {
   "cell_type": "code",
   "execution_count": 24,
   "metadata": {},
   "outputs": [
    {
     "name": "stdout",
     "output_type": "stream",
     "text": [
      "Hello Bekhruz Achilov\n"
     ]
    }
   ],
   "source": [
    "def my_name(your_name,your_surname):\n",
    "    print(f\"Hello {your_name} {your_surname}\")\n",
    "my_name(\"Bekhruz\",\"Achilov\")"
   ]
  },
  {
   "cell_type": "code",
   "execution_count": 46,
   "metadata": {},
   "outputs": [
    {
     "name": "stdout",
     "output_type": "stream",
     "text": [
      "You have 1680000 sums\n"
     ]
    }
   ],
   "source": [
    "def usd_to_uzs(sums):\n",
    "    USD = (sums) * 10500\n",
    "    print(f\"You have {USD} sums\")\n",
    "usd_to_uzs(160)"
   ]
  },
  {
   "cell_type": "code",
   "execution_count": 52,
   "metadata": {},
   "outputs": [
    {
     "name": "stdout",
     "output_type": "stream",
     "text": [
      "The answer is 143\n"
     ]
    }
   ],
   "source": [
    "def multiplication(a,b):\n",
    "    c = a * b\n",
    "    print(f\"The answer is {c}\" )\n",
    "multiplication(13,11)"
   ]
  },
  {
   "cell_type": "code",
   "execution_count": 59,
   "metadata": {},
   "outputs": [
    {
     "name": "stdout",
     "output_type": "stream",
     "text": [
      "3.75\n"
     ]
    }
   ],
   "source": [
    "def division(a,b):\n",
    "    c = a / b\n",
    "    print(c)\n",
    "division(15,4)"
   ]
  },
  {
   "cell_type": "code",
   "execution_count": 22,
   "metadata": {},
   "outputs": [
    {
     "name": "stdout",
     "output_type": "stream",
     "text": [
      "10 miles equel 16.09 km\n"
     ]
    }
   ],
   "source": [
    "def miles_to_km(km):\n",
    "    miles = (km) * 1.609\n",
    "    print(f\"{km} miles equel {miles} km\")\n",
    "miles_to_km(10)"
   ]
  },
  {
   "cell_type": "code",
   "execution_count": 16,
   "metadata": {},
   "outputs": [
    {
     "name": "stdout",
     "output_type": "stream",
     "text": [
      "6.215040397762586\n"
     ]
    }
   ],
   "source": [
    "def km_to_miles(m):\n",
    "    km  = (m) / 1.609    \n",
    "    print(km)\n",
    "km_to_miles(10)"
   ]
  },
  {
   "cell_type": "code",
   "execution_count": 40,
   "metadata": {},
   "outputs": [
    {
     "name": "stdout",
     "output_type": "stream",
     "text": [
      " You should give 675000.0 sums for zakat.\n"
     ]
    }
   ],
   "source": [
    "def zakat_calculator(total_sums):\n",
    "    if total_sums < 25000000:\n",
    "        print(\"You do not give zakat\")\n",
    "    if total_sums >= 25000000:\n",
    "        zakat_sums = (total_sums) * 0.025\n",
    "        print(f\" You should give {zakat_sums} sums for zakat.\")\n",
    "zakat_calculator(27000000)"
   ]
  },
  {
   "cell_type": "code",
   "execution_count": 48,
   "metadata": {},
   "outputs": [
    {
     "name": "stdout",
     "output_type": "stream",
     "text": [
      "50.348712\n"
     ]
    }
   ],
   "source": [
    "def pound_to_kg(pounds):\n",
    "    kg = (pounds) * 0.453592\n",
    "    print(f\"{kg}\")\n",
    "pound_to_kg(111)"
   ]
  },
  {
   "cell_type": "code",
   "execution_count": null,
   "metadata": {},
   "outputs": [],
   "source": []
  }
 ],
 "metadata": {
  "kernelspec": {
   "display_name": "Python 3",
   "language": "python",
   "name": "python3"
  },
  "language_info": {
   "codemirror_mode": {
    "name": "ipython",
    "version": 3
   },
   "file_extension": ".py",
   "mimetype": "text/x-python",
   "name": "python",
   "nbconvert_exporter": "python",
   "pygments_lexer": "ipython3",
   "version": "3.8.5"
  }
 },
 "nbformat": 4,
 "nbformat_minor": 4
}
